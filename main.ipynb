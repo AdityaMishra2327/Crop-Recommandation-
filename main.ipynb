{
 "cells": [
  {
   "cell_type": "code",
   "execution_count": 1,
   "id": "614607a8",
   "metadata": {},
   "outputs": [],
   "source": [
    "import pandas as pd\n",
    "import numpy as np\n"
   ]
  },
  {
   "cell_type": "code",
   "execution_count": 2,
   "id": "5c9e42ac",
   "metadata": {},
   "outputs": [],
   "source": [
    "df = pd.read_csv('crop.csv')"
   ]
  },
  {
   "cell_type": "code",
   "execution_count": 3,
   "id": "9161bb1e",
   "metadata": {},
   "outputs": [
    {
     "data": {
      "text/html": [
       "<div>\n",
       "<style scoped>\n",
       "    .dataframe tbody tr th:only-of-type {\n",
       "        vertical-align: middle;\n",
       "    }\n",
       "\n",
       "    .dataframe tbody tr th {\n",
       "        vertical-align: top;\n",
       "    }\n",
       "\n",
       "    .dataframe thead th {\n",
       "        text-align: right;\n",
       "    }\n",
       "</style>\n",
       "<table border=\"1\" class=\"dataframe\">\n",
       "  <thead>\n",
       "    <tr style=\"text-align: right;\">\n",
       "      <th></th>\n",
       "      <th>N</th>\n",
       "      <th>P</th>\n",
       "      <th>K</th>\n",
       "      <th>temperature</th>\n",
       "      <th>humidity</th>\n",
       "      <th>ph</th>\n",
       "      <th>rainfall</th>\n",
       "      <th>label</th>\n",
       "    </tr>\n",
       "  </thead>\n",
       "  <tbody>\n",
       "    <tr>\n",
       "      <th>0</th>\n",
       "      <td>90</td>\n",
       "      <td>42</td>\n",
       "      <td>43</td>\n",
       "      <td>20.879744</td>\n",
       "      <td>82.002744</td>\n",
       "      <td>6.502985</td>\n",
       "      <td>202.935536</td>\n",
       "      <td>rice</td>\n",
       "    </tr>\n",
       "    <tr>\n",
       "      <th>1</th>\n",
       "      <td>85</td>\n",
       "      <td>58</td>\n",
       "      <td>41</td>\n",
       "      <td>21.770462</td>\n",
       "      <td>80.319644</td>\n",
       "      <td>7.038096</td>\n",
       "      <td>226.655537</td>\n",
       "      <td>rice</td>\n",
       "    </tr>\n",
       "    <tr>\n",
       "      <th>2</th>\n",
       "      <td>60</td>\n",
       "      <td>55</td>\n",
       "      <td>44</td>\n",
       "      <td>23.004459</td>\n",
       "      <td>82.320763</td>\n",
       "      <td>7.840207</td>\n",
       "      <td>263.964248</td>\n",
       "      <td>rice</td>\n",
       "    </tr>\n",
       "    <tr>\n",
       "      <th>3</th>\n",
       "      <td>74</td>\n",
       "      <td>35</td>\n",
       "      <td>40</td>\n",
       "      <td>26.491096</td>\n",
       "      <td>80.158363</td>\n",
       "      <td>6.980401</td>\n",
       "      <td>242.864034</td>\n",
       "      <td>rice</td>\n",
       "    </tr>\n",
       "    <tr>\n",
       "      <th>4</th>\n",
       "      <td>78</td>\n",
       "      <td>42</td>\n",
       "      <td>42</td>\n",
       "      <td>20.130175</td>\n",
       "      <td>81.604873</td>\n",
       "      <td>7.628473</td>\n",
       "      <td>262.717340</td>\n",
       "      <td>rice</td>\n",
       "    </tr>\n",
       "  </tbody>\n",
       "</table>\n",
       "</div>"
      ],
      "text/plain": [
       "    N   P   K  temperature   humidity        ph    rainfall label\n",
       "0  90  42  43    20.879744  82.002744  6.502985  202.935536  rice\n",
       "1  85  58  41    21.770462  80.319644  7.038096  226.655537  rice\n",
       "2  60  55  44    23.004459  82.320763  7.840207  263.964248  rice\n",
       "3  74  35  40    26.491096  80.158363  6.980401  242.864034  rice\n",
       "4  78  42  42    20.130175  81.604873  7.628473  262.717340  rice"
      ]
     },
     "execution_count": 3,
     "metadata": {},
     "output_type": "execute_result"
    }
   ],
   "source": [
    "df.head()"
   ]
  },
  {
   "cell_type": "code",
   "execution_count": 4,
   "id": "88f51666",
   "metadata": {},
   "outputs": [
    {
     "data": {
      "text/html": [
       "<div>\n",
       "<style scoped>\n",
       "    .dataframe tbody tr th:only-of-type {\n",
       "        vertical-align: middle;\n",
       "    }\n",
       "\n",
       "    .dataframe tbody tr th {\n",
       "        vertical-align: top;\n",
       "    }\n",
       "\n",
       "    .dataframe thead th {\n",
       "        text-align: right;\n",
       "    }\n",
       "</style>\n",
       "<table border=\"1\" class=\"dataframe\">\n",
       "  <thead>\n",
       "    <tr style=\"text-align: right;\">\n",
       "      <th></th>\n",
       "      <th>N</th>\n",
       "      <th>P</th>\n",
       "      <th>K</th>\n",
       "      <th>temperature</th>\n",
       "      <th>humidity</th>\n",
       "      <th>ph</th>\n",
       "      <th>rainfall</th>\n",
       "      <th>label</th>\n",
       "    </tr>\n",
       "  </thead>\n",
       "  <tbody>\n",
       "    <tr>\n",
       "      <th>2195</th>\n",
       "      <td>107</td>\n",
       "      <td>34</td>\n",
       "      <td>32</td>\n",
       "      <td>26.774637</td>\n",
       "      <td>66.413269</td>\n",
       "      <td>6.780064</td>\n",
       "      <td>177.774507</td>\n",
       "      <td>coffee</td>\n",
       "    </tr>\n",
       "    <tr>\n",
       "      <th>2196</th>\n",
       "      <td>99</td>\n",
       "      <td>15</td>\n",
       "      <td>27</td>\n",
       "      <td>27.417112</td>\n",
       "      <td>56.636362</td>\n",
       "      <td>6.086922</td>\n",
       "      <td>127.924610</td>\n",
       "      <td>coffee</td>\n",
       "    </tr>\n",
       "    <tr>\n",
       "      <th>2197</th>\n",
       "      <td>118</td>\n",
       "      <td>33</td>\n",
       "      <td>30</td>\n",
       "      <td>24.131797</td>\n",
       "      <td>67.225123</td>\n",
       "      <td>6.362608</td>\n",
       "      <td>173.322839</td>\n",
       "      <td>coffee</td>\n",
       "    </tr>\n",
       "    <tr>\n",
       "      <th>2198</th>\n",
       "      <td>117</td>\n",
       "      <td>32</td>\n",
       "      <td>34</td>\n",
       "      <td>26.272418</td>\n",
       "      <td>52.127394</td>\n",
       "      <td>6.758793</td>\n",
       "      <td>127.175293</td>\n",
       "      <td>coffee</td>\n",
       "    </tr>\n",
       "    <tr>\n",
       "      <th>2199</th>\n",
       "      <td>104</td>\n",
       "      <td>18</td>\n",
       "      <td>30</td>\n",
       "      <td>23.603016</td>\n",
       "      <td>60.396475</td>\n",
       "      <td>6.779833</td>\n",
       "      <td>140.937041</td>\n",
       "      <td>coffee</td>\n",
       "    </tr>\n",
       "  </tbody>\n",
       "</table>\n",
       "</div>"
      ],
      "text/plain": [
       "        N   P   K  temperature   humidity        ph    rainfall   label\n",
       "2195  107  34  32    26.774637  66.413269  6.780064  177.774507  coffee\n",
       "2196   99  15  27    27.417112  56.636362  6.086922  127.924610  coffee\n",
       "2197  118  33  30    24.131797  67.225123  6.362608  173.322839  coffee\n",
       "2198  117  32  34    26.272418  52.127394  6.758793  127.175293  coffee\n",
       "2199  104  18  30    23.603016  60.396475  6.779833  140.937041  coffee"
      ]
     },
     "execution_count": 4,
     "metadata": {},
     "output_type": "execute_result"
    }
   ],
   "source": [
    "df.tail()"
   ]
  },
  {
   "cell_type": "code",
   "execution_count": 5,
   "id": "a95de81a",
   "metadata": {},
   "outputs": [
    {
     "data": {
      "text/plain": [
       "(2200, 8)"
      ]
     },
     "execution_count": 5,
     "metadata": {},
     "output_type": "execute_result"
    }
   ],
   "source": [
    "df.shape"
   ]
  },
  {
   "cell_type": "code",
   "execution_count": 6,
   "id": "25242df7",
   "metadata": {},
   "outputs": [
    {
     "name": "stdout",
     "output_type": "stream",
     "text": [
      "<class 'pandas.core.frame.DataFrame'>\n",
      "RangeIndex: 2200 entries, 0 to 2199\n",
      "Data columns (total 8 columns):\n",
      " #   Column       Non-Null Count  Dtype  \n",
      "---  ------       --------------  -----  \n",
      " 0   N            2200 non-null   int64  \n",
      " 1   P            2200 non-null   int64  \n",
      " 2   K            2200 non-null   int64  \n",
      " 3   temperature  2200 non-null   float64\n",
      " 4   humidity     2200 non-null   float64\n",
      " 5   ph           2200 non-null   float64\n",
      " 6   rainfall     2200 non-null   float64\n",
      " 7   label        2200 non-null   object \n",
      "dtypes: float64(4), int64(3), object(1)\n",
      "memory usage: 137.6+ KB\n"
     ]
    }
   ],
   "source": [
    "df.info()"
   ]
  },
  {
   "cell_type": "code",
   "execution_count": 7,
   "id": "578608f3",
   "metadata": {},
   "outputs": [
    {
     "data": {
      "text/plain": [
       "N              0\n",
       "P              0\n",
       "K              0\n",
       "temperature    0\n",
       "humidity       0\n",
       "ph             0\n",
       "rainfall       0\n",
       "label          0\n",
       "dtype: int64"
      ]
     },
     "execution_count": 7,
     "metadata": {},
     "output_type": "execute_result"
    }
   ],
   "source": [
    "#checking null values \n",
    "df.isna().sum()"
   ]
  },
  {
   "cell_type": "code",
   "execution_count": 8,
   "id": "db410646",
   "metadata": {},
   "outputs": [
    {
     "data": {
      "text/plain": [
       "0"
      ]
     },
     "execution_count": 8,
     "metadata": {},
     "output_type": "execute_result"
    }
   ],
   "source": [
    "#checking duplicated values \n",
    "df.duplicated().sum()"
   ]
  },
  {
   "cell_type": "code",
   "execution_count": 9,
   "id": "41d81bae",
   "metadata": {},
   "outputs": [
    {
     "data": {
      "text/html": [
       "<div>\n",
       "<style scoped>\n",
       "    .dataframe tbody tr th:only-of-type {\n",
       "        vertical-align: middle;\n",
       "    }\n",
       "\n",
       "    .dataframe tbody tr th {\n",
       "        vertical-align: top;\n",
       "    }\n",
       "\n",
       "    .dataframe thead th {\n",
       "        text-align: right;\n",
       "    }\n",
       "</style>\n",
       "<table border=\"1\" class=\"dataframe\">\n",
       "  <thead>\n",
       "    <tr style=\"text-align: right;\">\n",
       "      <th></th>\n",
       "      <th>N</th>\n",
       "      <th>P</th>\n",
       "      <th>K</th>\n",
       "      <th>temperature</th>\n",
       "      <th>humidity</th>\n",
       "      <th>ph</th>\n",
       "      <th>rainfall</th>\n",
       "    </tr>\n",
       "  </thead>\n",
       "  <tbody>\n",
       "    <tr>\n",
       "      <th>count</th>\n",
       "      <td>2200.000000</td>\n",
       "      <td>2200.000000</td>\n",
       "      <td>2200.000000</td>\n",
       "      <td>2200.000000</td>\n",
       "      <td>2200.000000</td>\n",
       "      <td>2200.000000</td>\n",
       "      <td>2200.000000</td>\n",
       "    </tr>\n",
       "    <tr>\n",
       "      <th>mean</th>\n",
       "      <td>50.551818</td>\n",
       "      <td>53.362727</td>\n",
       "      <td>48.149091</td>\n",
       "      <td>25.616244</td>\n",
       "      <td>71.481779</td>\n",
       "      <td>6.469480</td>\n",
       "      <td>103.463655</td>\n",
       "    </tr>\n",
       "    <tr>\n",
       "      <th>std</th>\n",
       "      <td>36.917334</td>\n",
       "      <td>32.985883</td>\n",
       "      <td>50.647931</td>\n",
       "      <td>5.063749</td>\n",
       "      <td>22.263812</td>\n",
       "      <td>0.773938</td>\n",
       "      <td>54.958389</td>\n",
       "    </tr>\n",
       "    <tr>\n",
       "      <th>min</th>\n",
       "      <td>0.000000</td>\n",
       "      <td>5.000000</td>\n",
       "      <td>5.000000</td>\n",
       "      <td>8.825675</td>\n",
       "      <td>14.258040</td>\n",
       "      <td>3.504752</td>\n",
       "      <td>20.211267</td>\n",
       "    </tr>\n",
       "    <tr>\n",
       "      <th>25%</th>\n",
       "      <td>21.000000</td>\n",
       "      <td>28.000000</td>\n",
       "      <td>20.000000</td>\n",
       "      <td>22.769375</td>\n",
       "      <td>60.261953</td>\n",
       "      <td>5.971693</td>\n",
       "      <td>64.551686</td>\n",
       "    </tr>\n",
       "    <tr>\n",
       "      <th>50%</th>\n",
       "      <td>37.000000</td>\n",
       "      <td>51.000000</td>\n",
       "      <td>32.000000</td>\n",
       "      <td>25.598693</td>\n",
       "      <td>80.473146</td>\n",
       "      <td>6.425045</td>\n",
       "      <td>94.867624</td>\n",
       "    </tr>\n",
       "    <tr>\n",
       "      <th>75%</th>\n",
       "      <td>84.250000</td>\n",
       "      <td>68.000000</td>\n",
       "      <td>49.000000</td>\n",
       "      <td>28.561654</td>\n",
       "      <td>89.948771</td>\n",
       "      <td>6.923643</td>\n",
       "      <td>124.267508</td>\n",
       "    </tr>\n",
       "    <tr>\n",
       "      <th>max</th>\n",
       "      <td>140.000000</td>\n",
       "      <td>145.000000</td>\n",
       "      <td>205.000000</td>\n",
       "      <td>43.675493</td>\n",
       "      <td>99.981876</td>\n",
       "      <td>9.935091</td>\n",
       "      <td>298.560117</td>\n",
       "    </tr>\n",
       "  </tbody>\n",
       "</table>\n",
       "</div>"
      ],
      "text/plain": [
       "                 N            P            K  temperature     humidity  \\\n",
       "count  2200.000000  2200.000000  2200.000000  2200.000000  2200.000000   \n",
       "mean     50.551818    53.362727    48.149091    25.616244    71.481779   \n",
       "std      36.917334    32.985883    50.647931     5.063749    22.263812   \n",
       "min       0.000000     5.000000     5.000000     8.825675    14.258040   \n",
       "25%      21.000000    28.000000    20.000000    22.769375    60.261953   \n",
       "50%      37.000000    51.000000    32.000000    25.598693    80.473146   \n",
       "75%      84.250000    68.000000    49.000000    28.561654    89.948771   \n",
       "max     140.000000   145.000000   205.000000    43.675493    99.981876   \n",
       "\n",
       "                ph     rainfall  \n",
       "count  2200.000000  2200.000000  \n",
       "mean      6.469480   103.463655  \n",
       "std       0.773938    54.958389  \n",
       "min       3.504752    20.211267  \n",
       "25%       5.971693    64.551686  \n",
       "50%       6.425045    94.867624  \n",
       "75%       6.923643   124.267508  \n",
       "max       9.935091   298.560117  "
      ]
     },
     "execution_count": 9,
     "metadata": {},
     "output_type": "execute_result"
    }
   ],
   "source": [
    "#How to describe the data \n",
    "df.describe()"
   ]
  },
  {
   "cell_type": "code",
   "execution_count": 10,
   "id": "386c6a89",
   "metadata": {},
   "outputs": [
    {
     "name": "stdout",
     "output_type": "stream",
     "text": [
      "N                int64\n",
      "P                int64\n",
      "K                int64\n",
      "temperature    float64\n",
      "humidity       float64\n",
      "ph             float64\n",
      "rainfall       float64\n",
      "label           object\n",
      "dtype: object\n"
     ]
    }
   ],
   "source": [
    "print(df.dtypes)\n"
   ]
  },
  {
   "cell_type": "code",
   "execution_count": 11,
   "id": "62ef7f91",
   "metadata": {},
   "outputs": [],
   "source": [
    "# How to convert string column into codes \n",
    "#df['label'] = df['label'].astype('category')\n",
    "#df['label'] = df['label'].cat.codes\n"
   ]
  },
  {
   "cell_type": "code",
   "execution_count": 12,
   "id": "22e18656",
   "metadata": {},
   "outputs": [],
   "source": [
    "# plotting graphs using seaborn \n",
    "#import seaborn as sns\n",
    "#sns.heatmap(df.corr(), annot = True , cbar = True)\n",
    "# The function of annot is : If annot is true then it's data is diplayed within box clearly .\n",
    "# And the function of cbar is : a color bar that represents the range of data values is displayed on the side of the heatmap."
   ]
  },
  {
   "cell_type": "code",
   "execution_count": 13,
   "id": "cbe11e9e",
   "metadata": {},
   "outputs": [
    {
     "data": {
      "text/plain": [
       "label\n",
       "rice           100\n",
       "maize          100\n",
       "jute           100\n",
       "cotton         100\n",
       "coconut        100\n",
       "papaya         100\n",
       "orange         100\n",
       "apple          100\n",
       "muskmelon      100\n",
       "watermelon     100\n",
       "grapes         100\n",
       "mango          100\n",
       "banana         100\n",
       "pomegranate    100\n",
       "lentil         100\n",
       "blackgram      100\n",
       "mungbean       100\n",
       "mothbeans      100\n",
       "pigeonpeas     100\n",
       "kidneybeans    100\n",
       "chickpea       100\n",
       "coffee         100\n",
       "Name: count, dtype: int64"
      ]
     },
     "execution_count": 13,
     "metadata": {},
     "output_type": "execute_result"
    }
   ],
   "source": [
    "df.label.value_counts()"
   ]
  },
  {
   "cell_type": "code",
   "execution_count": 14,
   "id": "ca1d005d",
   "metadata": {},
   "outputs": [
    {
     "data": {
      "text/plain": [
       "array(['rice', 'maize', 'chickpea', 'kidneybeans', 'pigeonpeas',\n",
       "       'mothbeans', 'mungbean', 'blackgram', 'lentil', 'pomegranate',\n",
       "       'banana', 'mango', 'grapes', 'watermelon', 'muskmelon', 'apple',\n",
       "       'orange', 'papaya', 'coconut', 'cotton', 'jute', 'coffee'],\n",
       "      dtype=object)"
      ]
     },
     "execution_count": 14,
     "metadata": {},
     "output_type": "execute_result"
    }
   ],
   "source": [
    "#How to check unique values in the dataset \n",
    "df['label'].unique()"
   ]
  },
  {
   "cell_type": "code",
   "execution_count": 15,
   "id": "d6a8e377",
   "metadata": {},
   "outputs": [
    {
     "data": {
      "text/plain": [
       "22"
      ]
     },
     "execution_count": 15,
     "metadata": {},
     "output_type": "execute_result"
    }
   ],
   "source": [
    "# How to check the size of unique values in the dataset \n",
    "df['label'].unique().size"
   ]
  },
  {
   "cell_type": "code",
   "execution_count": 16,
   "id": "a35a2c54",
   "metadata": {},
   "outputs": [],
   "source": [
    "crop_dict={\n",
    "    'rice': 1,\n",
    "    'maize': 2,\n",
    "    'jute': 3,\n",
    "    'cotton': 4,\n",
    "    'coconut': 5,\n",
    "    'papaya': 6,\n",
    "    'orange': 7,\n",
    "    'apple': 8,\n",
    "    'muskmelon': 9,\n",
    "    'watermelon': 10,\n",
    "    'grapes': 11,\n",
    "    'mango': 12,\n",
    "    'banana': 13,\n",
    "    'pomegranate': 14,\n",
    "    'lentil': 15,\n",
    "    'blackgram': 16,\n",
    "    'mungbean': 17,\n",
    "    'mothbeans': 18,\n",
    "    'pigeonpeas': 19,\n",
    "    'kidneybeans': 20,\n",
    "    'chickpea': 21,\n",
    "    'coffee': 22\n",
    "}\n",
    "\n",
    "df['label'] = df['label'].map(crop_dict)"
   ]
  },
  {
   "cell_type": "code",
   "execution_count": 17,
   "id": "a4e2199b",
   "metadata": {},
   "outputs": [
    {
     "data": {
      "text/plain": [
       "<AxesSubplot: >"
      ]
     },
     "execution_count": 17,
     "metadata": {},
     "output_type": "execute_result"
    },
    {
     "data": {
      "image/png": "[encoded data removed]",
      "text/plain": [
       "<Figure size 640x480 with 2 Axes>"
      ]
     },
     "metadata": {},
     "output_type": "display_data"
    }
   ],
   "source": [
    "import seaborn as sns\n",
    "sns.heatmap(df.corr(), annot = True , cbar = True)"
   ]
  },
  {
   "cell_type": "code",
   "execution_count": 18,
   "id": "77ee8aa6",
   "metadata": {},
   "outputs": [
    {
     "data": {
      "text/html": [
       "<div>\n",
       "<style scoped>\n",
       "    .dataframe tbody tr th:only-of-type {\n",
       "        vertical-align: middle;\n",
       "    }\n",
       "\n",
       "    .dataframe tbody tr th {\n",
       "        vertical-align: top;\n",
       "    }\n",
       "\n",
       "    .dataframe thead th {\n",
       "        text-align: right;\n",
       "    }\n",
       "</style>\n",
       "<table border=\"1\" class=\"dataframe\">\n",
       "  <thead>\n",
       "    <tr style=\"text-align: right;\">\n",
       "      <th></th>\n",
       "      <th>N</th>\n",
       "      <th>P</th>\n",
       "      <th>K</th>\n",
       "      <th>temperature</th>\n",
       "      <th>humidity</th>\n",
       "      <th>ph</th>\n",
       "      <th>rainfall</th>\n",
       "      <th>label</th>\n",
       "    </tr>\n",
       "  </thead>\n",
       "  <tbody>\n",
       "    <tr>\n",
       "      <th>0</th>\n",
       "      <td>90</td>\n",
       "      <td>42</td>\n",
       "      <td>43</td>\n",
       "      <td>20.879744</td>\n",
       "      <td>82.002744</td>\n",
       "      <td>6.502985</td>\n",
       "      <td>202.935536</td>\n",
       "      <td>1</td>\n",
       "    </tr>\n",
       "    <tr>\n",
       "      <th>1</th>\n",
       "      <td>85</td>\n",
       "      <td>58</td>\n",
       "      <td>41</td>\n",
       "      <td>21.770462</td>\n",
       "      <td>80.319644</td>\n",
       "      <td>7.038096</td>\n",
       "      <td>226.655537</td>\n",
       "      <td>1</td>\n",
       "    </tr>\n",
       "    <tr>\n",
       "      <th>2</th>\n",
       "      <td>60</td>\n",
       "      <td>55</td>\n",
       "      <td>44</td>\n",
       "      <td>23.004459</td>\n",
       "      <td>82.320763</td>\n",
       "      <td>7.840207</td>\n",
       "      <td>263.964248</td>\n",
       "      <td>1</td>\n",
       "    </tr>\n",
       "    <tr>\n",
       "      <th>3</th>\n",
       "      <td>74</td>\n",
       "      <td>35</td>\n",
       "      <td>40</td>\n",
       "      <td>26.491096</td>\n",
       "      <td>80.158363</td>\n",
       "      <td>6.980401</td>\n",
       "      <td>242.864034</td>\n",
       "      <td>1</td>\n",
       "    </tr>\n",
       "    <tr>\n",
       "      <th>4</th>\n",
       "      <td>78</td>\n",
       "      <td>42</td>\n",
       "      <td>42</td>\n",
       "      <td>20.130175</td>\n",
       "      <td>81.604873</td>\n",
       "      <td>7.628473</td>\n",
       "      <td>262.717340</td>\n",
       "      <td>1</td>\n",
       "    </tr>\n",
       "  </tbody>\n",
       "</table>\n",
       "</div>"
      ],
      "text/plain": [
       "    N   P   K  temperature   humidity        ph    rainfall  label\n",
       "0  90  42  43    20.879744  82.002744  6.502985  202.935536      1\n",
       "1  85  58  41    21.770462  80.319644  7.038096  226.655537      1\n",
       "2  60  55  44    23.004459  82.320763  7.840207  263.964248      1\n",
       "3  74  35  40    26.491096  80.158363  6.980401  242.864034      1\n",
       "4  78  42  42    20.130175  81.604873  7.628473  262.717340      1"
      ]
     },
     "execution_count": 18,
     "metadata": {},
     "output_type": "execute_result"
    }
   ],
   "source": [
    "df.head()"
   ]
  },
  {
   "cell_type": "code",
   "execution_count": 19,
   "id": "16aa8247",
   "metadata": {},
   "outputs": [
    {
     "data": {
      "text/plain": [
       "(2200, 8)"
      ]
     },
     "execution_count": 19,
     "metadata": {},
     "output_type": "execute_result"
    }
   ],
   "source": [
    "df.shape\n"
   ]
  },
  {
   "cell_type": "code",
   "execution_count": 20,
   "id": "a7a75459",
   "metadata": {},
   "outputs": [
    {
     "name": "stdout",
     "output_type": "stream",
     "text": [
      "<class 'pandas.core.frame.DataFrame'>\n",
      "RangeIndex: 2200 entries, 0 to 2199\n",
      "Data columns (total 8 columns):\n",
      " #   Column       Non-Null Count  Dtype  \n",
      "---  ------       --------------  -----  \n",
      " 0   N            2200 non-null   int64  \n",
      " 1   P            2200 non-null   int64  \n",
      " 2   K            2200 non-null   int64  \n",
      " 3   temperature  2200 non-null   float64\n",
      " 4   humidity     2200 non-null   float64\n",
      " 5   ph           2200 non-null   float64\n",
      " 6   rainfall     2200 non-null   float64\n",
      " 7   label        2200 non-null   int64  \n",
      "dtypes: float64(4), int64(4)\n",
      "memory usage: 137.6 KB\n"
     ]
    }
   ],
   "source": [
    "df.info()"
   ]
  },
  {
   "cell_type": "code",
   "execution_count": 21,
   "id": "893ce5d8",
   "metadata": {},
   "outputs": [],
   "source": [
    "#Extracting input and output columns\n",
    "X = df.iloc[: , :-1 ]\n",
    "y= df.iloc[: , -1: ]"
   ]
  },
  {
   "cell_type": "code",
   "execution_count": 22,
   "id": "100a1522",
   "metadata": {},
   "outputs": [
    {
     "data": {
      "text/html": [
       "<div>\n",
       "<style scoped>\n",
       "    .dataframe tbody tr th:only-of-type {\n",
       "        vertical-align: middle;\n",
       "    }\n",
       "\n",
       "    .dataframe tbody tr th {\n",
       "        vertical-align: top;\n",
       "    }\n",
       "\n",
       "    .dataframe thead th {\n",
       "        text-align: right;\n",
       "    }\n",
       "</style>\n",
       "<table border=\"1\" class=\"dataframe\">\n",
       "  <thead>\n",
       "    <tr style=\"text-align: right;\">\n",
       "      <th></th>\n",
       "      <th>N</th>\n",
       "      <th>P</th>\n",
       "      <th>K</th>\n",
       "      <th>temperature</th>\n",
       "      <th>humidity</th>\n",
       "      <th>ph</th>\n",
       "      <th>rainfall</th>\n",
       "    </tr>\n",
       "  </thead>\n",
       "  <tbody>\n",
       "    <tr>\n",
       "      <th>0</th>\n",
       "      <td>90</td>\n",
       "      <td>42</td>\n",
       "      <td>43</td>\n",
       "      <td>20.879744</td>\n",
       "      <td>82.002744</td>\n",
       "      <td>6.502985</td>\n",
       "      <td>202.935536</td>\n",
       "    </tr>\n",
       "    <tr>\n",
       "      <th>1</th>\n",
       "      <td>85</td>\n",
       "      <td>58</td>\n",
       "      <td>41</td>\n",
       "      <td>21.770462</td>\n",
       "      <td>80.319644</td>\n",
       "      <td>7.038096</td>\n",
       "      <td>226.655537</td>\n",
       "    </tr>\n",
       "    <tr>\n",
       "      <th>2</th>\n",
       "      <td>60</td>\n",
       "      <td>55</td>\n",
       "      <td>44</td>\n",
       "      <td>23.004459</td>\n",
       "      <td>82.320763</td>\n",
       "      <td>7.840207</td>\n",
       "      <td>263.964248</td>\n",
       "    </tr>\n",
       "    <tr>\n",
       "      <th>3</th>\n",
       "      <td>74</td>\n",
       "      <td>35</td>\n",
       "      <td>40</td>\n",
       "      <td>26.491096</td>\n",
       "      <td>80.158363</td>\n",
       "      <td>6.980401</td>\n",
       "      <td>242.864034</td>\n",
       "    </tr>\n",
       "    <tr>\n",
       "      <th>4</th>\n",
       "      <td>78</td>\n",
       "      <td>42</td>\n",
       "      <td>42</td>\n",
       "      <td>20.130175</td>\n",
       "      <td>81.604873</td>\n",
       "      <td>7.628473</td>\n",
       "      <td>262.717340</td>\n",
       "    </tr>\n",
       "    <tr>\n",
       "      <th>...</th>\n",
       "      <td>...</td>\n",
       "      <td>...</td>\n",
       "      <td>...</td>\n",
       "      <td>...</td>\n",
       "      <td>...</td>\n",
       "      <td>...</td>\n",
       "      <td>...</td>\n",
       "    </tr>\n",
       "    <tr>\n",
       "      <th>2195</th>\n",
       "      <td>107</td>\n",
       "      <td>34</td>\n",
       "      <td>32</td>\n",
       "      <td>26.774637</td>\n",
       "      <td>66.413269</td>\n",
       "      <td>6.780064</td>\n",
       "      <td>177.774507</td>\n",
       "    </tr>\n",
       "    <tr>\n",
       "      <th>2196</th>\n",
       "      <td>99</td>\n",
       "      <td>15</td>\n",
       "      <td>27</td>\n",
       "      <td>27.417112</td>\n",
       "      <td>56.636362</td>\n",
       "      <td>6.086922</td>\n",
       "      <td>127.924610</td>\n",
       "    </tr>\n",
       "    <tr>\n",
       "      <th>2197</th>\n",
       "      <td>118</td>\n",
       "      <td>33</td>\n",
       "      <td>30</td>\n",
       "      <td>24.131797</td>\n",
       "      <td>67.225123</td>\n",
       "      <td>6.362608</td>\n",
       "      <td>173.322839</td>\n",
       "    </tr>\n",
       "    <tr>\n",
       "      <th>2198</th>\n",
       "      <td>117</td>\n",
       "      <td>32</td>\n",
       "      <td>34</td>\n",
       "      <td>26.272418</td>\n",
       "      <td>52.127394</td>\n",
       "      <td>6.758793</td>\n",
       "      <td>127.175293</td>\n",
       "    </tr>\n",
       "    <tr>\n",
       "      <th>2199</th>\n",
       "      <td>104</td>\n",
       "      <td>18</td>\n",
       "      <td>30</td>\n",
       "      <td>23.603016</td>\n",
       "      <td>60.396475</td>\n",
       "      <td>6.779833</td>\n",
       "      <td>140.937041</td>\n",
       "    </tr>\n",
       "  </tbody>\n",
       "</table>\n",
       "<p>2200 rows × 7 columns</p>\n",
       "</div>"
      ],
      "text/plain": [
       "        N   P   K  temperature   humidity        ph    rainfall\n",
       "0      90  42  43    20.879744  82.002744  6.502985  202.935536\n",
       "1      85  58  41    21.770462  80.319644  7.038096  226.655537\n",
       "2      60  55  44    23.004459  82.320763  7.840207  263.964248\n",
       "3      74  35  40    26.491096  80.158363  6.980401  242.864034\n",
       "4      78  42  42    20.130175  81.604873  7.628473  262.717340\n",
       "...   ...  ..  ..          ...        ...       ...         ...\n",
       "2195  107  34  32    26.774637  66.413269  6.780064  177.774507\n",
       "2196   99  15  27    27.417112  56.636362  6.086922  127.924610\n",
       "2197  118  33  30    24.131797  67.225123  6.362608  173.322839\n",
       "2198  117  32  34    26.272418  52.127394  6.758793  127.175293\n",
       "2199  104  18  30    23.603016  60.396475  6.779833  140.937041\n",
       "\n",
       "[2200 rows x 7 columns]"
      ]
     },
     "execution_count": 22,
     "metadata": {},
     "output_type": "execute_result"
    }
   ],
   "source": [
    "X"
   ]
  },
  {
   "cell_type": "code",
   "execution_count": 23,
   "id": "b27d9952",
   "metadata": {},
   "outputs": [
    {
     "data": {
      "text/html": [
       "<div>\n",
       "<style scoped>\n",
       "    .dataframe tbody tr th:only-of-type {\n",
       "        vertical-align: middle;\n",
       "    }\n",
       "\n",
       "    .dataframe tbody tr th {\n",
       "        vertical-align: top;\n",
       "    }\n",
       "\n",
       "    .dataframe thead th {\n",
       "        text-align: right;\n",
       "    }\n",
       "</style>\n",
       "<table border=\"1\" class=\"dataframe\">\n",
       "  <thead>\n",
       "    <tr style=\"text-align: right;\">\n",
       "      <th></th>\n",
       "      <th>label</th>\n",
       "    </tr>\n",
       "  </thead>\n",
       "  <tbody>\n",
       "    <tr>\n",
       "      <th>0</th>\n",
       "      <td>1</td>\n",
       "    </tr>\n",
       "    <tr>\n",
       "      <th>1</th>\n",
       "      <td>1</td>\n",
       "    </tr>\n",
       "    <tr>\n",
       "      <th>2</th>\n",
       "      <td>1</td>\n",
       "    </tr>\n",
       "    <tr>\n",
       "      <th>3</th>\n",
       "      <td>1</td>\n",
       "    </tr>\n",
       "    <tr>\n",
       "      <th>4</th>\n",
       "      <td>1</td>\n",
       "    </tr>\n",
       "    <tr>\n",
       "      <th>...</th>\n",
       "      <td>...</td>\n",
       "    </tr>\n",
       "    <tr>\n",
       "      <th>2195</th>\n",
       "      <td>22</td>\n",
       "    </tr>\n",
       "    <tr>\n",
       "      <th>2196</th>\n",
       "      <td>22</td>\n",
       "    </tr>\n",
       "    <tr>\n",
       "      <th>2197</th>\n",
       "      <td>22</td>\n",
       "    </tr>\n",
       "    <tr>\n",
       "      <th>2198</th>\n",
       "      <td>22</td>\n",
       "    </tr>\n",
       "    <tr>\n",
       "      <th>2199</th>\n",
       "      <td>22</td>\n",
       "    </tr>\n",
       "  </tbody>\n",
       "</table>\n",
       "<p>2200 rows × 1 columns</p>\n",
       "</div>"
      ],
      "text/plain": [
       "      label\n",
       "0         1\n",
       "1         1\n",
       "2         1\n",
       "3         1\n",
       "4         1\n",
       "...     ...\n",
       "2195     22\n",
       "2196     22\n",
       "2197     22\n",
       "2198     22\n",
       "2199     22\n",
       "\n",
       "[2200 rows x 1 columns]"
      ]
     },
     "execution_count": 23,
     "metadata": {},
     "output_type": "execute_result"
    }
   ],
   "source": [
    "y\n"
   ]
  },
  {
   "cell_type": "code",
   "execution_count": 24,
   "id": "1dcf71b1",
   "metadata": {},
   "outputs": [],
   "source": [
    "# Next step is train test split \n",
    "\n",
    "from sklearn.model_selection import train_test_split\n",
    "X_train, X_test, y_train , y_test = train_test_split(X, y, test_size = 0.2, random_state = 42)"
   ]
  },
  {
   "cell_type": "code",
   "execution_count": 25,
   "id": "6bed4b56",
   "metadata": {},
   "outputs": [
    {
     "data": {
      "text/html": [
       "<div>\n",
       "<style scoped>\n",
       "    .dataframe tbody tr th:only-of-type {\n",
       "        vertical-align: middle;\n",
       "    }\n",
       "\n",
       "    .dataframe tbody tr th {\n",
       "        vertical-align: top;\n",
       "    }\n",
       "\n",
       "    .dataframe thead th {\n",
       "        text-align: right;\n",
       "    }\n",
       "</style>\n",
       "<table border=\"1\" class=\"dataframe\">\n",
       "  <thead>\n",
       "    <tr style=\"text-align: right;\">\n",
       "      <th></th>\n",
       "      <th>N</th>\n",
       "      <th>P</th>\n",
       "      <th>K</th>\n",
       "      <th>temperature</th>\n",
       "      <th>humidity</th>\n",
       "      <th>ph</th>\n",
       "      <th>rainfall</th>\n",
       "    </tr>\n",
       "  </thead>\n",
       "  <tbody>\n",
       "    <tr>\n",
       "      <th>1656</th>\n",
       "      <td>17</td>\n",
       "      <td>16</td>\n",
       "      <td>14</td>\n",
       "      <td>16.396243</td>\n",
       "      <td>92.181519</td>\n",
       "      <td>6.625539</td>\n",
       "      <td>102.944161</td>\n",
       "    </tr>\n",
       "    <tr>\n",
       "      <th>752</th>\n",
       "      <td>37</td>\n",
       "      <td>79</td>\n",
       "      <td>19</td>\n",
       "      <td>27.543848</td>\n",
       "      <td>69.347863</td>\n",
       "      <td>7.143943</td>\n",
       "      <td>69.408782</td>\n",
       "    </tr>\n",
       "    <tr>\n",
       "      <th>892</th>\n",
       "      <td>7</td>\n",
       "      <td>73</td>\n",
       "      <td>25</td>\n",
       "      <td>27.521856</td>\n",
       "      <td>63.132153</td>\n",
       "      <td>7.288057</td>\n",
       "      <td>45.208411</td>\n",
       "    </tr>\n",
       "    <tr>\n",
       "      <th>1041</th>\n",
       "      <td>101</td>\n",
       "      <td>70</td>\n",
       "      <td>48</td>\n",
       "      <td>25.360592</td>\n",
       "      <td>75.031933</td>\n",
       "      <td>6.012697</td>\n",
       "      <td>116.553145</td>\n",
       "    </tr>\n",
       "    <tr>\n",
       "      <th>1179</th>\n",
       "      <td>0</td>\n",
       "      <td>17</td>\n",
       "      <td>30</td>\n",
       "      <td>35.474783</td>\n",
       "      <td>47.972305</td>\n",
       "      <td>6.279134</td>\n",
       "      <td>97.790725</td>\n",
       "    </tr>\n",
       "    <tr>\n",
       "      <th>...</th>\n",
       "      <td>...</td>\n",
       "      <td>...</td>\n",
       "      <td>...</td>\n",
       "      <td>...</td>\n",
       "      <td>...</td>\n",
       "      <td>...</td>\n",
       "      <td>...</td>\n",
       "    </tr>\n",
       "    <tr>\n",
       "      <th>1638</th>\n",
       "      <td>10</td>\n",
       "      <td>5</td>\n",
       "      <td>5</td>\n",
       "      <td>21.213070</td>\n",
       "      <td>91.353492</td>\n",
       "      <td>7.817846</td>\n",
       "      <td>112.983436</td>\n",
       "    </tr>\n",
       "    <tr>\n",
       "      <th>1095</th>\n",
       "      <td>108</td>\n",
       "      <td>94</td>\n",
       "      <td>47</td>\n",
       "      <td>27.359116</td>\n",
       "      <td>84.546250</td>\n",
       "      <td>6.387431</td>\n",
       "      <td>90.812505</td>\n",
       "    </tr>\n",
       "    <tr>\n",
       "      <th>1130</th>\n",
       "      <td>11</td>\n",
       "      <td>36</td>\n",
       "      <td>31</td>\n",
       "      <td>27.920633</td>\n",
       "      <td>51.779659</td>\n",
       "      <td>6.475449</td>\n",
       "      <td>100.258567</td>\n",
       "    </tr>\n",
       "    <tr>\n",
       "      <th>1294</th>\n",
       "      <td>11</td>\n",
       "      <td>124</td>\n",
       "      <td>204</td>\n",
       "      <td>13.429886</td>\n",
       "      <td>80.066340</td>\n",
       "      <td>6.361141</td>\n",
       "      <td>71.400430</td>\n",
       "    </tr>\n",
       "    <tr>\n",
       "      <th>860</th>\n",
       "      <td>32</td>\n",
       "      <td>78</td>\n",
       "      <td>22</td>\n",
       "      <td>23.970814</td>\n",
       "      <td>62.355576</td>\n",
       "      <td>7.007038</td>\n",
       "      <td>53.409060</td>\n",
       "    </tr>\n",
       "  </tbody>\n",
       "</table>\n",
       "<p>1760 rows × 7 columns</p>\n",
       "</div>"
      ],
      "text/plain": [
       "        N    P    K  temperature   humidity        ph    rainfall\n",
       "1656   17   16   14    16.396243  92.181519  6.625539  102.944161\n",
       "752    37   79   19    27.543848  69.347863  7.143943   69.408782\n",
       "892     7   73   25    27.521856  63.132153  7.288057   45.208411\n",
       "1041  101   70   48    25.360592  75.031933  6.012697  116.553145\n",
       "1179    0   17   30    35.474783  47.972305  6.279134   97.790725\n",
       "...   ...  ...  ...          ...        ...       ...         ...\n",
       "1638   10    5    5    21.213070  91.353492  7.817846  112.983436\n",
       "1095  108   94   47    27.359116  84.546250  6.387431   90.812505\n",
       "1130   11   36   31    27.920633  51.779659  6.475449  100.258567\n",
       "1294   11  124  204    13.429886  80.066340  6.361141   71.400430\n",
       "860    32   78   22    23.970814  62.355576  7.007038   53.409060\n",
       "\n",
       "[1760 rows x 7 columns]"
      ]
     },
     "execution_count": 25,
     "metadata": {},
     "output_type": "execute_result"
    }
   ],
   "source": [
    "X_train"
   ]
  },
  {
   "cell_type": "code",
   "execution_count": 26,
   "id": "736201c7",
   "metadata": {},
   "outputs": [
    {
     "data": {
      "text/html": [
       "<div>\n",
       "<style scoped>\n",
       "    .dataframe tbody tr th:only-of-type {\n",
       "        vertical-align: middle;\n",
       "    }\n",
       "\n",
       "    .dataframe tbody tr th {\n",
       "        vertical-align: top;\n",
       "    }\n",
       "\n",
       "    .dataframe thead th {\n",
       "        text-align: right;\n",
       "    }\n",
       "</style>\n",
       "<table border=\"1\" class=\"dataframe\">\n",
       "  <thead>\n",
       "    <tr style=\"text-align: right;\">\n",
       "      <th></th>\n",
       "      <th>N</th>\n",
       "      <th>P</th>\n",
       "      <th>K</th>\n",
       "      <th>temperature</th>\n",
       "      <th>humidity</th>\n",
       "      <th>ph</th>\n",
       "      <th>rainfall</th>\n",
       "    </tr>\n",
       "  </thead>\n",
       "  <tbody>\n",
       "    <tr>\n",
       "      <th>1451</th>\n",
       "      <td>101</td>\n",
       "      <td>17</td>\n",
       "      <td>47</td>\n",
       "      <td>29.494014</td>\n",
       "      <td>94.729813</td>\n",
       "      <td>6.185053</td>\n",
       "      <td>26.308209</td>\n",
       "    </tr>\n",
       "    <tr>\n",
       "      <th>1334</th>\n",
       "      <td>98</td>\n",
       "      <td>8</td>\n",
       "      <td>51</td>\n",
       "      <td>26.179346</td>\n",
       "      <td>86.522581</td>\n",
       "      <td>6.259336</td>\n",
       "      <td>49.430510</td>\n",
       "    </tr>\n",
       "    <tr>\n",
       "      <th>1761</th>\n",
       "      <td>59</td>\n",
       "      <td>62</td>\n",
       "      <td>49</td>\n",
       "      <td>43.360515</td>\n",
       "      <td>93.351916</td>\n",
       "      <td>6.941497</td>\n",
       "      <td>114.778071</td>\n",
       "    </tr>\n",
       "    <tr>\n",
       "      <th>1735</th>\n",
       "      <td>44</td>\n",
       "      <td>60</td>\n",
       "      <td>55</td>\n",
       "      <td>34.280461</td>\n",
       "      <td>90.555616</td>\n",
       "      <td>6.825371</td>\n",
       "      <td>98.540477</td>\n",
       "    </tr>\n",
       "    <tr>\n",
       "      <th>1576</th>\n",
       "      <td>30</td>\n",
       "      <td>137</td>\n",
       "      <td>200</td>\n",
       "      <td>22.914300</td>\n",
       "      <td>90.704756</td>\n",
       "      <td>5.603413</td>\n",
       "      <td>118.604465</td>\n",
       "    </tr>\n",
       "    <tr>\n",
       "      <th>...</th>\n",
       "      <td>...</td>\n",
       "      <td>...</td>\n",
       "      <td>...</td>\n",
       "      <td>...</td>\n",
       "      <td>...</td>\n",
       "      <td>...</td>\n",
       "      <td>...</td>\n",
       "    </tr>\n",
       "    <tr>\n",
       "      <th>59</th>\n",
       "      <td>99</td>\n",
       "      <td>55</td>\n",
       "      <td>35</td>\n",
       "      <td>21.723831</td>\n",
       "      <td>80.238990</td>\n",
       "      <td>6.501698</td>\n",
       "      <td>277.962619</td>\n",
       "    </tr>\n",
       "    <tr>\n",
       "      <th>71</th>\n",
       "      <td>67</td>\n",
       "      <td>45</td>\n",
       "      <td>38</td>\n",
       "      <td>22.727910</td>\n",
       "      <td>82.170688</td>\n",
       "      <td>7.300411</td>\n",
       "      <td>260.887506</td>\n",
       "    </tr>\n",
       "    <tr>\n",
       "      <th>1908</th>\n",
       "      <td>121</td>\n",
       "      <td>47</td>\n",
       "      <td>16</td>\n",
       "      <td>23.605640</td>\n",
       "      <td>79.295731</td>\n",
       "      <td>7.723240</td>\n",
       "      <td>72.498009</td>\n",
       "    </tr>\n",
       "    <tr>\n",
       "      <th>1958</th>\n",
       "      <td>116</td>\n",
       "      <td>52</td>\n",
       "      <td>19</td>\n",
       "      <td>22.942767</td>\n",
       "      <td>75.371706</td>\n",
       "      <td>6.114526</td>\n",
       "      <td>67.080226</td>\n",
       "    </tr>\n",
       "    <tr>\n",
       "      <th>482</th>\n",
       "      <td>5</td>\n",
       "      <td>68</td>\n",
       "      <td>20</td>\n",
       "      <td>19.043805</td>\n",
       "      <td>33.106951</td>\n",
       "      <td>6.121667</td>\n",
       "      <td>155.370562</td>\n",
       "    </tr>\n",
       "  </tbody>\n",
       "</table>\n",
       "<p>440 rows × 7 columns</p>\n",
       "</div>"
      ],
      "text/plain": [
       "        N    P    K  temperature   humidity        ph    rainfall\n",
       "1451  101   17   47    29.494014  94.729813  6.185053   26.308209\n",
       "1334   98    8   51    26.179346  86.522581  6.259336   49.430510\n",
       "1761   59   62   49    43.360515  93.351916  6.941497  114.778071\n",
       "1735   44   60   55    34.280461  90.555616  6.825371   98.540477\n",
       "1576   30  137  200    22.914300  90.704756  5.603413  118.604465\n",
       "...   ...  ...  ...          ...        ...       ...         ...\n",
       "59     99   55   35    21.723831  80.238990  6.501698  277.962619\n",
       "71     67   45   38    22.727910  82.170688  7.300411  260.887506\n",
       "1908  121   47   16    23.605640  79.295731  7.723240   72.498009\n",
       "1958  116   52   19    22.942767  75.371706  6.114526   67.080226\n",
       "482     5   68   20    19.043805  33.106951  6.121667  155.370562\n",
       "\n",
       "[440 rows x 7 columns]"
      ]
     },
     "execution_count": 26,
     "metadata": {},
     "output_type": "execute_result"
    }
   ],
   "source": [
    "X_test"
   ]
  },
  {
   "cell_type": "code",
   "execution_count": 27,
   "id": "b7313e51",
   "metadata": {},
   "outputs": [],
   "source": [
    "# Next step is to scale the data \n"
   ]
  },
  {
   "cell_type": "code",
   "execution_count": 28,
   "id": "c4884c38",
   "metadata": {},
   "outputs": [],
   "source": [
    "from sklearn.preprocessing import MinMaxScaler\n",
    "mx = MinMaxScaler()\n",
    "X_train = mx.fit_transform(X_train)\n",
    "X_test = mx.transform(X_test)"
   ]
  },
  {
   "cell_type": "code",
   "execution_count": 29,
   "id": "67dc0c97",
   "metadata": {},
   "outputs": [
    {
     "data": {
      "text/plain": [
       "array([[0.12142857, 0.07857143, 0.045     , ..., 0.9089898 , 0.48532225,\n",
       "        0.29685161],\n",
       "       [0.26428571, 0.52857143, 0.07      , ..., 0.64257946, 0.56594073,\n",
       "        0.17630752],\n",
       "       [0.05      , 0.48571429, 0.1       , ..., 0.57005802, 0.58835229,\n",
       "        0.08931844],\n",
       "       ...,\n",
       "       [0.07857143, 0.22142857, 0.13      , ..., 0.43760347, 0.46198144,\n",
       "        0.28719815],\n",
       "       [0.07857143, 0.85      , 0.995     , ..., 0.76763665, 0.44420505,\n",
       "        0.18346657],\n",
       "       [0.22857143, 0.52142857, 0.085     , ..., 0.56099735, 0.54465022,\n",
       "        0.11879596]])"
      ]
     },
     "execution_count": 29,
     "metadata": {},
     "output_type": "execute_result"
    }
   ],
   "source": [
    "X_train\n"
   ]
  },
  {
   "cell_type": "code",
   "execution_count": 30,
   "id": "a272295a",
   "metadata": {},
   "outputs": [
    {
     "data": {
      "text/plain": [
       "array([[0.72142857, 0.08571429, 0.21      , ..., 0.93872187, 0.41682113,\n",
       "        0.021381  ],\n",
       "       [0.7       , 0.02142857, 0.23      , ..., 0.84296447, 0.42837304,\n",
       "        0.10449492],\n",
       "       [0.42142857, 0.40714286, 0.22      , ..., 0.92264534, 0.5344578 ,\n",
       "        0.33938901],\n",
       "       ...,\n",
       "       [0.86428571, 0.3       , 0.055     , ..., 0.75864563, 0.6560289 ,\n",
       "        0.18741185],\n",
       "       [0.82857143, 0.33571429, 0.07      , ..., 0.71286229, 0.40585322,\n",
       "        0.16793744],\n",
       "       [0.03571429, 0.45      , 0.075     , ..., 0.21974075, 0.40696371,\n",
       "        0.48530014]])"
      ]
     },
     "execution_count": 30,
     "metadata": {},
     "output_type": "execute_result"
    }
   ],
   "source": [
    "X_test"
   ]
  },
  {
   "cell_type": "code",
   "execution_count": 31,
   "id": "9c1ab143",
   "metadata": {},
   "outputs": [],
   "source": [
    "from sklearn.preprocessing import StandardScaler\n",
    "\n",
    "scaler = StandardScaler()\n",
    "\n",
    "# Fit and transform the training data\n",
    "X_train = scaler.fit_transform(X_train)\n",
    "\n",
    "# Transform the test data using the parameters learned from X_train\n",
    "X_test = scaler.transform(X_test)\n"
   ]
  },
  {
   "cell_type": "code",
   "execution_count": 32,
   "id": "8a7704bb",
   "metadata": {},
   "outputs": [
    {
     "data": {
      "text/plain": [
       "array([[-9.03426596e-01, -1.12616170e+00, -6.68506601e-01, ...,\n",
       "         9.36586183e-01,  1.93473784e-01,  5.14970176e-03],\n",
       "       [-3.67051340e-01,  7.70358846e-01, -5.70589522e-01, ...,\n",
       "        -1.00470485e-01,  8.63917548e-01, -6.05290566e-01],\n",
       "       [-1.17161422e+00,  5.89737842e-01, -4.53089028e-01, ...,\n",
       "        -3.82774991e-01,  1.05029771e+00, -1.04580687e+00],\n",
       "       ...,\n",
       "       [-1.06433917e+00, -5.24091685e-01, -3.35588533e-01, ...,\n",
       "        -8.98381379e-01, -6.34357580e-04, -4.37358211e-02],\n",
       "       [-1.06433917e+00,  2.12501638e+00,  3.05234239e+00, ...,\n",
       "         3.86340190e-01, -1.48467347e-01, -5.69036842e-01],\n",
       "       [-5.01145154e-01,  7.40255346e-01, -5.11839275e-01, ...,\n",
       "        -4.18045489e-01,  6.86860180e-01, -8.96531475e-01]])"
      ]
     },
     "execution_count": 32,
     "metadata": {},
     "output_type": "execute_result"
    }
   ],
   "source": [
    "X_train"
   ]
  },
  {
   "cell_type": "code",
   "execution_count": 33,
   "id": "614db90c",
   "metadata": {},
   "outputs": [],
   "source": [
    "\n",
    "from sklearn.ensemble import RandomForestClassifier\n",
    "from sklearn.metrics import accuracy_score"
   ]
  },
  {
   "cell_type": "code",
   "execution_count": 34,
   "id": "470a6637",
   "metadata": {},
   "outputs": [
    {
     "name": "stderr",
     "output_type": "stream",
     "text": [
      "/usr/lib/python3/dist-packages/sklearn/base.py:1474: DataConversionWarning: A column-vector y was passed when a 1d array was expected. Please change the shape of y to (n_samples,), for example using ravel().\n",
      "  return fit_method(estimator, *args, **kwargs)\n"
     ]
    },
    {
     "data": {
      "text/plain": [
       "0.9931818181818182"
      ]
     },
     "execution_count": 34,
     "metadata": {},
     "output_type": "execute_result"
    }
   ],
   "source": [
    "randclf = RandomForestClassifier()\n",
    "randclf.fit(X_train, y_train)\n",
    "y_pred = randclf.predict(X_test)\n",
    "accuracy_score(y_test, y_pred)"
   ]
  },
  {
   "cell_type": "code",
   "execution_count": 36,
   "id": "c82cf203",
   "metadata": {},
   "outputs": [],
   "source": [
    "import pickle \n",
    "pickle.dump(randclf, open('Model.pkl', 'wb'))\n"
   ]
  },
  {
   "cell_type": "code",
   "execution_count": null,
   "id": "4ee5f730",
   "metadata": {},
   "outputs": [],
   "source": []
  },
  {
   "cell_type": "code",
   "execution_count": null,
   "id": "3c9a5063",
   "metadata": {},
   "outputs": [],
   "source": []
  }
 ],
 "metadata": {
  "kernelspec": {
   "display_name": "Python 3 (ipykernel)",
   "language": "python",
   "name": "python3"
  },
  "language_info": {
   "codemirror_mode": {
    "name": "ipython",
    "version": 3
   },
   "file_extension": ".py",
   "mimetype": "text/x-python",
   "name": "python",
   "nbconvert_exporter": "python",
   "pygments_lexer": "ipython3",
   "version": "3.12.3"
  }
 },
 "nbformat": 4,
 "nbformat_minor": 5
}
